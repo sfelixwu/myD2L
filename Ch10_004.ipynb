{
 "cells": [
  {
   "cell_type": "code",
   "execution_count": 1,
   "metadata": {},
   "outputs": [],
   "source": [
    "#!/usr/bin/env python\n",
    "# coding: utf-8"
   ]
  },
  {
   "cell_type": "code",
   "execution_count": 2,
   "metadata": {},
   "outputs": [],
   "source": [
    "import torch\n",
    "import torch.nn as nn\n",
    "from torch.nn import functional as F"
   ]
  },
  {
   "cell_type": "markdown",
   "metadata": {},
   "source": [
    "hyperparameters"
   ]
  },
  {
   "cell_type": "code",
   "execution_count": 3,
   "metadata": {},
   "outputs": [],
   "source": [
    "batch_size = 16 # how many independent sequences will we process in parallel?\n",
    "block_size = 32 # what is the maximum context length for predictions?\n",
    "max_iters = 5000\n",
    "eval_interval = 100\n",
    "learning_rate = 1e-3\n",
    "device = 'cuda' if torch.cuda.is_available() else 'cpu'\n",
    "eval_iters = 200\n",
    "n_embd = 64\n",
    "n_head = 4\n",
    "n_layer = 4\n",
    "dropout = 0.0\n",
    "# ------------"
   ]
  },
  {
   "cell_type": "code",
   "execution_count": 4,
   "metadata": {},
   "outputs": [
    {
     "data": {
      "text/plain": [
       "<torch._C.Generator at 0x11b58fb30>"
      ]
     },
     "execution_count": 4,
     "metadata": {},
     "output_type": "execute_result"
    }
   ],
   "source": [
    "torch.manual_seed(1337)"
   ]
  },
  {
   "cell_type": "markdown",
   "metadata": {},
   "source": [
    "wget https://raw.githubusercontent.com/karpathy/char-rnn/master/data/tinyshakespeare/input.txt"
   ]
  },
  {
   "cell_type": "code",
   "execution_count": 5,
   "metadata": {},
   "outputs": [],
   "source": [
    "with open('ai.txt', 'r', encoding='utf-8') as f:\n",
    "    text = f.read()"
   ]
  },
  {
   "cell_type": "markdown",
   "metadata": {},
   "source": [
    "here are all the unique characters that occur in this text"
   ]
  },
  {
   "cell_type": "code",
   "execution_count": 6,
   "metadata": {},
   "outputs": [],
   "source": [
    "chars = sorted(list(set(text)))\n",
    "vocab_size = len(chars)\n",
    "# create a mapping from characters to integers\n",
    "stoi = { ch:i for i,ch in enumerate(chars) }\n",
    "itos = { i:ch for i,ch in enumerate(chars) }\n",
    "encode = lambda s: [stoi[c] for c in s] # encoder: take a string, output a list of integers\n",
    "decode = lambda l: ''.join([itos[i] for i in l]) # decoder: take a list of integers, output a string"
   ]
  },
  {
   "cell_type": "markdown",
   "metadata": {},
   "source": [
    "Train and test splits"
   ]
  },
  {
   "cell_type": "code",
   "execution_count": 7,
   "metadata": {},
   "outputs": [],
   "source": [
    "data = torch.tensor(encode(text), dtype=torch.long)\n",
    "n = int(0.9*len(data)) # first 90% will be train, rest val\n",
    "train_data = data[:n]\n",
    "val_data = data[n:]"
   ]
  },
  {
   "cell_type": "markdown",
   "metadata": {},
   "source": [
    "data loading"
   ]
  },
  {
   "cell_type": "code",
   "execution_count": 8,
   "metadata": {},
   "outputs": [],
   "source": [
    "def get_batch(split):\n",
    "    # generate a small batch of data of inputs x and targets y\n",
    "    data = train_data if split == 'train' else val_data\n",
    "    ix = torch.randint(len(data) - block_size, (batch_size,))\n",
    "    x = torch.stack([data[i:i+block_size] for i in ix])\n",
    "    y = torch.stack([data[i+1:i+block_size+1] for i in ix])\n",
    "    x, y = x.to(device), y.to(device)\n",
    "    return x, y"
   ]
  },
  {
   "cell_type": "code",
   "execution_count": 9,
   "metadata": {},
   "outputs": [],
   "source": [
    "@torch.no_grad()\n",
    "def estimate_loss():\n",
    "    out = {}\n",
    "    model.eval()\n",
    "    for split in ['train', 'val']:\n",
    "        losses = torch.zeros(eval_iters)\n",
    "        for k in range(eval_iters):\n",
    "            X, Y = get_batch(split)\n",
    "            logits, loss = model(X, Y)\n",
    "            losses[k] = loss.item()\n",
    "        out[split] = losses.mean()\n",
    "    model.train()\n",
    "    return out"
   ]
  },
  {
   "cell_type": "code",
   "execution_count": 10,
   "metadata": {},
   "outputs": [],
   "source": [
    "class Head(nn.Module):\n",
    "    \"\"\" one head of self-attention \"\"\"\n",
    "    def __init__(self, head_size):\n",
    "        super().__init__()\n",
    "        self.key = nn.Linear(n_embd, head_size, bias=False)\n",
    "        self.query = nn.Linear(n_embd, head_size, bias=False)\n",
    "        self.value = nn.Linear(n_embd, head_size, bias=False)\n",
    "        self.register_buffer('tril', torch.tril(torch.ones(block_size, block_size)))\n",
    "        self.dropout = nn.Dropout(dropout)\n",
    "    def forward(self, x):\n",
    "        B,T,C = x.shape\n",
    "        k = self.key(x)   # (B,T,C)\n",
    "        q = self.query(x) # (B,T,C)\n",
    "        # compute attention scores (\"affinities\")\n",
    "        wei = q @ k.transpose(-2,-1) * C**-0.5 # (B, T, C) @ (B, C, T) -> (B, T, T)\n",
    "        wei = wei.masked_fill(self.tril[:T, :T] == 0, float('-inf')) # (B, T, T)\n",
    "        wei = F.softmax(wei, dim=-1) # (B, T, T)\n",
    "        wei = self.dropout(wei)\n",
    "        # perform the weighted aggregation of the values\n",
    "        v = self.value(x) # (B,T,C)\n",
    "        out = wei @ v # (B, T, T) @ (B, T, C) -> (B, T, C)\n",
    "        return out"
   ]
  },
  {
   "cell_type": "code",
   "execution_count": 11,
   "metadata": {},
   "outputs": [],
   "source": [
    "class MultiHeadAttention(nn.Module):\n",
    "    \"\"\" multiple heads of self-attention in parallel \"\"\"\n",
    "    def __init__(self, num_heads, head_size):\n",
    "        super().__init__()\n",
    "        self.heads = nn.ModuleList([Head(head_size) for _ in range(num_heads)])\n",
    "        self.proj = nn.Linear(n_embd, n_embd)\n",
    "        self.dropout = nn.Dropout(dropout)\n",
    "    def forward(self, x):\n",
    "        out = torch.cat([h(x) for h in self.heads], dim=-1)\n",
    "        out = self.dropout(self.proj(out))\n",
    "        return out"
   ]
  },
  {
   "cell_type": "code",
   "execution_count": 12,
   "metadata": {},
   "outputs": [],
   "source": [
    "class FeedFoward(nn.Module):\n",
    "    \"\"\" a simple linear layer followed by a non-linearity \"\"\"\n",
    "    def __init__(self, n_embd):\n",
    "        super().__init__()\n",
    "        self.net = nn.Sequential(\n",
    "            nn.Linear(n_embd, 4 * n_embd),\n",
    "            nn.ReLU(),\n",
    "            nn.Linear(4 * n_embd, n_embd),\n",
    "            nn.Dropout(dropout),\n",
    "        )\n",
    "    def forward(self, x):\n",
    "        return self.net(x)"
   ]
  },
  {
   "cell_type": "code",
   "execution_count": 13,
   "metadata": {},
   "outputs": [],
   "source": [
    "class Block(nn.Module):\n",
    "    \"\"\" Transformer block: communication followed by computation \"\"\"\n",
    "    def __init__(self, n_embd, n_head):\n",
    "        # n_embd: embedding dimension, n_head: the number of heads we'd like\n",
    "        super().__init__()\n",
    "        head_size = n_embd // n_head\n",
    "        self.sa = MultiHeadAttention(n_head, head_size)\n",
    "        self.ffwd = FeedFoward(n_embd)\n",
    "        self.ln1 = nn.LayerNorm(n_embd)\n",
    "        self.ln2 = nn.LayerNorm(n_embd)\n",
    "    def forward(self, x):\n",
    "        x = x + self.sa(self.ln1(x))\n",
    "        x = x + self.ffwd(self.ln2(x))\n",
    "        return x"
   ]
  },
  {
   "cell_type": "markdown",
   "metadata": {},
   "source": [
    "super simple bigram model"
   ]
  },
  {
   "cell_type": "code",
   "execution_count": 14,
   "metadata": {},
   "outputs": [],
   "source": [
    "class BigramLanguageModel(nn.Module):\n",
    "    def __init__(self):\n",
    "        super().__init__()\n",
    "        # each token directly reads off the logits for the next token from a lookup table\n",
    "        self.token_embedding_table = nn.Embedding(vocab_size, n_embd)\n",
    "        self.position_embedding_table = nn.Embedding(block_size, n_embd)\n",
    "        self.blocks = nn.Sequential(*[Block(n_embd, n_head=n_head) for _ in range(n_layer)])\n",
    "        self.ln_f = nn.LayerNorm(n_embd) # final layer norm\n",
    "        self.lm_head = nn.Linear(n_embd, vocab_size)\n",
    "    def forward(self, idx, targets=None):\n",
    "        B, T = idx.shape\n",
    "\n",
    "        # idx and targets are both (B,T) tensor of integers\n",
    "        tok_emb = self.token_embedding_table(idx) # (B,T,C)\n",
    "        pos_emb = self.position_embedding_table(torch.arange(T, device=device)) # (T,C)\n",
    "        x = tok_emb + pos_emb # (B,T,C)\n",
    "        x = self.blocks(x) # (B,T,C)\n",
    "        x = self.ln_f(x) # (B,T,C)\n",
    "        logits = self.lm_head(x) # (B,T,vocab_size)\n",
    "        if targets is None:\n",
    "            loss = None\n",
    "        else:\n",
    "            B, T, C = logits.shape\n",
    "            logits = logits.view(B*T, C)\n",
    "            targets = targets.view(B*T)\n",
    "            loss = F.cross_entropy(logits, targets)\n",
    "        return logits, loss\n",
    "    def generate(self, idx, max_new_tokens):\n",
    "        # idx is (B, T) array of indices in the current context\n",
    "        for _ in range(max_new_tokens):\n",
    "            # crop idx to the last block_size tokens\n",
    "            idx_cond = idx[:, -block_size:]\n",
    "            # get the predictions\n",
    "            logits, loss = self(idx_cond)\n",
    "            # focus only on the last time step\n",
    "            logits = logits[:, -1, :] # becomes (B, C)\n",
    "            # apply softmax to get probabilities\n",
    "            probs = F.softmax(logits, dim=-1) # (B, C)\n",
    "            # sample from the distribution\n",
    "            idx_next = torch.multinomial(probs, num_samples=1) # (B, 1)\n",
    "            # append sampled index to the running sequence\n",
    "            idx = torch.cat((idx, idx_next), dim=1) # (B, T+1)\n",
    "        return idx"
   ]
  },
  {
   "cell_type": "code",
   "execution_count": 15,
   "metadata": {},
   "outputs": [
    {
     "name": "stdout",
     "output_type": "stream",
     "text": [
      "0.212051 M parameters HERE 1\n"
     ]
    }
   ],
   "source": [
    "model = BigramLanguageModel()\n",
    "m = model.to(device)\n",
    "# print the number of parameters in the model\n",
    "print(sum(p.numel() for p in m.parameters())/1e6, 'M parameters HERE 1')"
   ]
  },
  {
   "cell_type": "markdown",
   "metadata": {},
   "source": [
    "create a PyTorch optimizer"
   ]
  },
  {
   "cell_type": "code",
   "execution_count": 16,
   "metadata": {},
   "outputs": [],
   "source": [
    "optimizer = torch.optim.AdamW(model.parameters(), lr=learning_rate)"
   ]
  },
  {
   "cell_type": "code",
   "execution_count": 17,
   "metadata": {},
   "outputs": [
    {
     "name": "stdout",
     "output_type": "stream",
     "text": [
      "step 0: train loss 4.5594, val loss 4.5570\n",
      "step 100: train loss 2.7009, val loss 2.7488\n",
      "step 200: train loss 2.5136, val loss 2.5503\n",
      "step 300: train loss 2.4481, val loss 2.4928\n",
      "step 400: train loss 2.3585, val loss 2.4362\n",
      "step 500: train loss 2.2621, val loss 2.3492\n",
      "step 600: train loss 2.1711, val loss 2.2804\n",
      "step 700: train loss 2.0793, val loss 2.2160\n",
      "step 800: train loss 2.0110, val loss 2.1947\n",
      "step 900: train loss 1.9613, val loss 2.1526\n",
      "step 1000: train loss 1.8909, val loss 2.1118\n",
      "step 1100: train loss 1.8192, val loss 2.1055\n",
      "step 1200: train loss 1.7805, val loss 2.0446\n",
      "step 1300: train loss 1.7306, val loss 2.0368\n",
      "step 1400: train loss 1.6865, val loss 2.0368\n",
      "step 1500: train loss 1.6580, val loss 2.0371\n",
      "step 1600: train loss 1.6248, val loss 1.9954\n",
      "step 1700: train loss 1.5991, val loss 1.9734\n",
      "step 1800: train loss 1.5739, val loss 1.9737\n",
      "step 1900: train loss 1.5470, val loss 1.9633\n",
      "step 2000: train loss 1.5235, val loss 1.9746\n",
      "step 2100: train loss 1.4980, val loss 1.9642\n",
      "step 2200: train loss 1.4713, val loss 1.9368\n",
      "step 2300: train loss 1.4539, val loss 1.9570\n",
      "step 2400: train loss 1.4225, val loss 1.9423\n",
      "step 2500: train loss 1.4106, val loss 1.9355\n",
      "step 2600: train loss 1.3993, val loss 1.9449\n",
      "step 2700: train loss 1.3797, val loss 1.9660\n",
      "step 2800: train loss 1.3577, val loss 1.9632\n",
      "step 2900: train loss 1.3426, val loss 1.9754\n",
      "step 3000: train loss 1.3298, val loss 1.9564\n",
      "step 3100: train loss 1.3187, val loss 1.9715\n",
      "step 3200: train loss 1.3152, val loss 1.9804\n",
      "step 3300: train loss 1.3010, val loss 1.9860\n",
      "step 3400: train loss 1.2810, val loss 1.9766\n",
      "step 3500: train loss 1.2560, val loss 1.9748\n",
      "step 3600: train loss 1.2566, val loss 1.9606\n",
      "step 3700: train loss 1.2297, val loss 1.9789\n",
      "step 3800: train loss 1.2253, val loss 1.9948\n",
      "step 3900: train loss 1.2249, val loss 1.9888\n",
      "step 4000: train loss 1.2019, val loss 2.0158\n",
      "step 4100: train loss 1.2016, val loss 2.0082\n",
      "step 4200: train loss 1.1809, val loss 2.0154\n",
      "step 4300: train loss 1.1856, val loss 2.0639\n",
      "step 4400: train loss 1.1729, val loss 2.0117\n",
      "step 4500: train loss 1.1602, val loss 2.0183\n",
      "step 4600: train loss 1.1385, val loss 2.0387\n",
      "step 4700: train loss 1.1281, val loss 2.0376\n",
      "step 4800: train loss 1.1263, val loss 2.0822\n",
      "step 4900: train loss 1.1197, val loss 2.0584\n",
      "step 4999: train loss 1.1068, val loss 2.0637\n"
     ]
    }
   ],
   "source": [
    "for iter in range(max_iters):\n",
    "\n",
    "    # every once in a while evaluate the loss on train and val sets\n",
    "    if iter % eval_interval == 0 or iter == max_iters - 1:\n",
    "        losses = estimate_loss()\n",
    "        print(f\"step {iter}: train loss {losses['train']:.4f}, val loss {losses['val']:.4f}\")\n",
    "\n",
    "    # sample a batch of data\n",
    "    xb, yb = get_batch('train')\n",
    "\n",
    "    # evaluate the loss\n",
    "    logits, loss = model(xb, yb)\n",
    "    optimizer.zero_grad(set_to_none=True)\n",
    "    loss.backward()\n",
    "    optimizer.step()"
   ]
  },
  {
   "cell_type": "markdown",
   "metadata": {},
   "source": [
    "generate from the model"
   ]
  },
  {
   "cell_type": "code",
   "execution_count": 41,
   "metadata": {},
   "outputs": [
    {
     "name": "stdout",
     "output_type": "stream",
     "text": [
      "before generating\n",
      "torch.Size([1, 1])\n",
      "torch.Size([501])\n",
      "tensor([ 0,  0, 43, 72, 61, 74, 57,  1, 64, 67, 66, 59,  1, 72, 60, 57,  1, 65,\n",
      "        53, 66, 77,  1, 67, 58,  1, 53, 66,  1, 80, 53, 68, 53, 53, 65, 57, 56,\n",
      "         1, 25, 33,  1, 56, 61, 74, 61, 56, 57, 56,  1, 54, 77,  1, 25, 33,  6,\n",
      "        66,  1, 73, 66, 55, 67, 64, 67, 70,  1, 72, 60, 53, 72,  1, 60, 53, 71,\n",
      "        71, 73, 65, 57, 56,  1, 70, 53, 56, 57, 53, 55, 57, 11,  1, 44, 60, 57,\n",
      "        77,  1, 74, 53, 70, 61, 57, 72, 61, 67, 66,  1, 67, 58,  1, 53, 71, 71,\n",
      "        68, 70, 67, 55, 57, 71, 71,  1, 75, 61, 72, 60,  1, 53, 72, 72, 57, 65,\n",
      "        68, 72,  1, 65, 57, 56, 61, 71, 61, 67, 66,  1, 55, 60, 67, 61, 66, 74,\n",
      "        57, 70, 77,  8,  1, 53, 71,  1, 64, 57, 53, 70, 66, 61, 66, 59, 11, 51,\n",
      "        19, 20, 52,  1, 56, 57, 56,  1, 53, 71,  1,  3, 71, 53, 58, 58, 61, 55,\n",
      "        61, 53, 64,  1, 61, 66, 72, 57, 64, 64, 61, 59, 57, 66, 55, 57,  1, 53,\n",
      "        59, 70, 53, 56, 11, 51, 13, 21, 20, 52,  1, 44, 75, 67, 61, 66, 77,  9,\n",
      "         1, 47, 53, 64, 65, 53, 70, 61, 53, 66, 59,  1, 75, 67, 73, 64, 56,  1,\n",
      "        72, 60, 57,  1, 71, 73, 54, 77, 10, 71, 77, 65, 54, 67, 64, 61, 55,  1,\n",
      "        53, 68, 68, 64, 61, 55, 53, 72, 61, 67, 66,  1, 54, 57, 60, 53, 74, 61,\n",
      "        55,  1, 60, 53, 71,  1, 53, 66, 56,  1, 72, 60, 67, 73, 71, 53, 66, 71,\n",
      "        61, 55, 53, 64,  1, 53, 71,  1, 72, 60, 57, 66, 56, 71,  0, 37, 53, 55,\n",
      "        60, 61, 66, 57,  1, 53,  1, 64, 57, 53, 70, 66, 61, 66, 59,  1, 75, 60,\n",
      "        53, 72,  1, 53,  1, 68, 70, 67, 54, 64, 57, 65, 71, 11, 51, 14, 14,  1,\n",
      "        42, 67, 72, 72, 60, 57, 70, 71,  1, 58, 67, 70,  1, 68, 57, 70, 71, 67,\n",
      "        66,  1, 53, 71,  1, 43, 61, 65, 73, 64, 53, 72, 57, 71,  1, 67, 58,  1,\n",
      "        75, 60, 73, 72, 60,  1, 60, 61, 59, 60,  1, 65, 67, 71, 72,  1, 70, 53,\n",
      "        72, 60, 57, 65, 53, 66, 71, 11, 51, 13, 12, 20, 52,  1, 55, 53, 72, 57,\n",
      "        59, 67, 70, 77, 51, 13, 18, 52,  1, 53, 66, 56,  1, 14, 12, 13, 14, 12,\n",
      "        71,  1, 53, 55, 53, 66, 56,  1, 67, 66,  1, 53, 55, 55, 73, 70, 53, 72,\n",
      "        57,  1, 64, 53, 77, 57, 70, 71,  1, 72, 67,  1, 53, 71, 71, 73, 58, 61,\n",
      "        66, 59,  1, 53,  1, 55, 67, 65, 68, 57, 72, 61, 66, 59,  1, 25, 33,  0,\n",
      "        37, 53, 55, 60, 61, 66, 57,  1, 64, 57, 74, 57, 64, 71,  1])\n",
      "[0, 0, 43, 72, 61, 74, 57, 1, 64, 67, 66, 59, 1, 72, 60, 57, 1, 65, 53, 66, 77, 1, 67, 58, 1, 53, 66, 1, 80, 53, 68, 53, 53, 65, 57, 56, 1, 25, 33, 1, 56, 61, 74, 61, 56, 57, 56, 1, 54, 77, 1, 25, 33, 6, 66, 1, 73, 66, 55, 67, 64, 67, 70, 1, 72, 60, 53, 72, 1, 60, 53, 71, 71, 73, 65, 57, 56, 1, 70, 53, 56, 57, 53, 55, 57, 11, 1, 44, 60, 57, 77, 1, 74, 53, 70, 61, 57, 72, 61, 67, 66, 1, 67, 58, 1, 53, 71, 71, 68, 70, 67, 55, 57, 71, 71, 1, 75, 61, 72, 60, 1, 53, 72, 72, 57, 65, 68, 72, 1, 65, 57, 56, 61, 71, 61, 67, 66, 1, 55, 60, 67, 61, 66, 74, 57, 70, 77, 8, 1, 53, 71, 1, 64, 57, 53, 70, 66, 61, 66, 59, 11, 51, 19, 20, 52, 1, 56, 57, 56, 1, 53, 71, 1, 3, 71, 53, 58, 58, 61, 55, 61, 53, 64, 1, 61, 66, 72, 57, 64, 64, 61, 59, 57, 66, 55, 57, 1, 53, 59, 70, 53, 56, 11, 51, 13, 21, 20, 52, 1, 44, 75, 67, 61, 66, 77, 9, 1, 47, 53, 64, 65, 53, 70, 61, 53, 66, 59, 1, 75, 67, 73, 64, 56, 1, 72, 60, 57, 1, 71, 73, 54, 77, 10, 71, 77, 65, 54, 67, 64, 61, 55, 1, 53, 68, 68, 64, 61, 55, 53, 72, 61, 67, 66, 1, 54, 57, 60, 53, 74, 61, 55, 1, 60, 53, 71, 1, 53, 66, 56, 1, 72, 60, 67, 73, 71, 53, 66, 71, 61, 55, 53, 64, 1, 53, 71, 1, 72, 60, 57, 66, 56, 71, 0, 37, 53, 55, 60, 61, 66, 57, 1, 53, 1, 64, 57, 53, 70, 66, 61, 66, 59, 1, 75, 60, 53, 72, 1, 53, 1, 68, 70, 67, 54, 64, 57, 65, 71, 11, 51, 14, 14, 1, 42, 67, 72, 72, 60, 57, 70, 71, 1, 58, 67, 70, 1, 68, 57, 70, 71, 67, 66, 1, 53, 71, 1, 43, 61, 65, 73, 64, 53, 72, 57, 71, 1, 67, 58, 1, 75, 60, 73, 72, 60, 1, 60, 61, 59, 60, 1, 65, 67, 71, 72, 1, 70, 53, 72, 60, 57, 65, 53, 66, 71, 11, 51, 13, 12, 20, 52, 1, 55, 53, 72, 57, 59, 67, 70, 77, 51, 13, 18, 52, 1, 53, 66, 56, 1, 14, 12, 13, 14, 12, 71, 1, 53, 55, 53, 66, 56, 1, 67, 66, 1, 53, 55, 55, 73, 70, 53, 72, 57, 1, 64, 53, 77, 57, 70, 71, 1, 72, 67, 1, 53, 71, 71, 73, 58, 61, 66, 59, 1, 53, 1, 55, 67, 65, 68, 57, 72, 61, 66, 59, 1, 25, 33, 0, 37, 53, 55, 60, 61, 66, 57, 1, 64, 57, 74, 57, 64, 71, 1]\n",
      "\n",
      "\n",
      "Stive long the many of an Čapaamed AI divided by AI'n uncolor that hassumed radeace. They varietion of assprocess with attempt medision choinvery) as learning.[78] ded as \"safficial intelligence agrad.[198] Twoiny, Walmariang would the suby-symbolic application behavic has and thousansical as thends\n",
      "Machine a learning what a problems.[22 Rotthers for person as Simulates of whuth high most rathemans.[108] category[16] and 20120s acand on accurate layers to assufing a competing AI\n",
      "Machine levels \n",
      "tensor([ 0,  0, 48, 72, 61, 75, 57,  1, 67, 69, 66, 59,  1, 72, 60, 57,  1, 65,\n",
      "        53, 66, 77,  1, 67, 58,  1, 53, 66,  1, 80, 53, 68, 53, 53, 65, 57, 56,\n",
      "         1, 25, 33,  1, 56, 61, 74, 61, 56, 57, 56,  1, 54, 77,  1, 25, 33,  6,\n",
      "        66,  1, 73, 66, 55, 67, 64, 67, 70,  1, 72, 60, 53, 72,  1, 60, 53, 71,\n",
      "        71, 73, 65, 57, 56,  1, 70, 53, 56, 57, 53, 55, 57, 11,  1, 44, 60, 57,\n",
      "        77,  1, 74, 53, 70, 61, 57, 72, 61, 67, 66,  1, 67, 58,  1, 53, 71, 71,\n",
      "        68, 70, 67, 55, 57, 71, 71,  1, 75, 61, 72, 60,  1, 53, 72, 72, 57, 65,\n",
      "        68, 72,  1, 65, 57, 56, 61, 71, 61, 67, 66,  1, 55, 60, 67, 61, 66, 74,\n",
      "        57, 70, 77,  8,  1, 53, 71,  1, 64, 57, 53, 70, 66, 61, 66, 59, 11, 51,\n",
      "        19, 20, 52,  1, 56, 57, 56,  1, 53, 71,  1,  3, 71, 53, 58, 58, 61, 55,\n",
      "        61, 53, 64,  1, 61, 66, 72, 57, 64, 64, 61, 59, 57, 66, 55, 57,  1, 53,\n",
      "        59, 70, 53, 56, 11, 51, 13, 21, 20, 52,  1, 44, 75, 67, 61, 66, 77,  9,\n",
      "         1, 47, 53, 64, 65, 53, 70, 61, 53, 66, 59,  1, 75, 67, 73, 64, 56,  1,\n",
      "        72, 60, 57,  1, 71, 73, 54, 77, 10, 71, 77, 65, 54, 67, 64, 61, 55,  1,\n",
      "        53, 68, 68, 64, 61, 55, 53, 72, 61, 67, 66,  1, 54, 57, 60, 53, 74, 61,\n",
      "        55,  1, 60, 53, 71,  1, 53, 66, 56,  1, 72, 60, 67, 73, 71, 53, 66, 71,\n",
      "        61, 55, 53, 64,  1, 53, 71,  1, 72, 60, 57, 66, 56, 71,  0, 37, 53, 55,\n",
      "        60, 61, 66, 57,  1, 53,  1, 64, 57, 53, 70, 66, 61, 66, 59,  1, 75, 60,\n",
      "        53, 72,  1, 53,  1, 68, 70, 67, 54, 64, 57, 65, 71, 11, 51, 14, 14,  1,\n",
      "        42, 67, 72, 72, 60, 57, 70, 71,  1, 58, 67, 70,  1, 68, 57, 70, 71, 67,\n",
      "        66,  1, 53, 71,  1, 43, 61, 65, 73, 64, 53, 72, 57, 71,  1, 67, 58,  1,\n",
      "        75, 60, 73, 72, 60,  1, 60, 61, 59, 60,  1, 65, 67, 71, 72,  1, 70, 53,\n",
      "        72, 60, 57, 65, 53, 66, 71, 11, 51, 13, 12, 20, 52,  1, 55, 53, 72, 57,\n",
      "        59, 67, 70, 77, 51, 13, 18, 52,  1, 53, 66, 56,  1, 14, 12, 13, 14, 12,\n",
      "        71,  1, 53, 55, 53, 66, 56,  1, 67, 66,  1, 53, 55, 55, 73, 70, 53, 72,\n",
      "        57,  1, 64, 53, 77, 57, 70, 71,  1, 72, 67,  1, 53, 71, 71, 73, 58, 61,\n",
      "        66, 59,  1, 53,  1, 55, 67, 65, 68, 57, 72, 61, 66, 59,  1, 25, 33,  0,\n",
      "        37, 53, 55, 60, 61, 66, 57,  1, 64, 57, 74, 57, 64, 71,  1])\n",
      "[0, 0, 48, 72, 61, 75, 57, 1, 67, 69, 66, 59, 1, 72, 60, 57, 1, 65, 53, 66, 77, 1, 67, 58, 1, 53, 66, 1, 80, 53, 68, 53, 53, 65, 57, 56, 1, 25, 33, 1, 56, 61, 74, 61, 56, 57, 56, 1, 54, 77, 1, 25, 33, 6, 66, 1, 73, 66, 55, 67, 64, 67, 70, 1, 72, 60, 53, 72, 1, 60, 53, 71, 71, 73, 65, 57, 56, 1, 70, 53, 56, 57, 53, 55, 57, 11, 1, 44, 60, 57, 77, 1, 74, 53, 70, 61, 57, 72, 61, 67, 66, 1, 67, 58, 1, 53, 71, 71, 68, 70, 67, 55, 57, 71, 71, 1, 75, 61, 72, 60, 1, 53, 72, 72, 57, 65, 68, 72, 1, 65, 57, 56, 61, 71, 61, 67, 66, 1, 55, 60, 67, 61, 66, 74, 57, 70, 77, 8, 1, 53, 71, 1, 64, 57, 53, 70, 66, 61, 66, 59, 11, 51, 19, 20, 52, 1, 56, 57, 56, 1, 53, 71, 1, 3, 71, 53, 58, 58, 61, 55, 61, 53, 64, 1, 61, 66, 72, 57, 64, 64, 61, 59, 57, 66, 55, 57, 1, 53, 59, 70, 53, 56, 11, 51, 13, 21, 20, 52, 1, 44, 75, 67, 61, 66, 77, 9, 1, 47, 53, 64, 65, 53, 70, 61, 53, 66, 59, 1, 75, 67, 73, 64, 56, 1, 72, 60, 57, 1, 71, 73, 54, 77, 10, 71, 77, 65, 54, 67, 64, 61, 55, 1, 53, 68, 68, 64, 61, 55, 53, 72, 61, 67, 66, 1, 54, 57, 60, 53, 74, 61, 55, 1, 60, 53, 71, 1, 53, 66, 56, 1, 72, 60, 67, 73, 71, 53, 66, 71, 61, 55, 53, 64, 1, 53, 71, 1, 72, 60, 57, 66, 56, 71, 0, 37, 53, 55, 60, 61, 66, 57, 1, 53, 1, 64, 57, 53, 70, 66, 61, 66, 59, 1, 75, 60, 53, 72, 1, 53, 1, 68, 70, 67, 54, 64, 57, 65, 71, 11, 51, 14, 14, 1, 42, 67, 72, 72, 60, 57, 70, 71, 1, 58, 67, 70, 1, 68, 57, 70, 71, 67, 66, 1, 53, 71, 1, 43, 61, 65, 73, 64, 53, 72, 57, 71, 1, 67, 58, 1, 75, 60, 73, 72, 60, 1, 60, 61, 59, 60, 1, 65, 67, 71, 72, 1, 70, 53, 72, 60, 57, 65, 53, 66, 71, 11, 51, 13, 12, 20, 52, 1, 55, 53, 72, 57, 59, 67, 70, 77, 51, 13, 18, 52, 1, 53, 66, 56, 1, 14, 12, 13, 14, 12, 71, 1, 53, 55, 53, 66, 56, 1, 67, 66, 1, 53, 55, 55, 73, 70, 53, 72, 57, 1, 64, 53, 77, 57, 70, 71, 1, 72, 67, 1, 53, 71, 71, 73, 58, 61, 66, 59, 1, 53, 1, 55, 67, 65, 68, 57, 72, 61, 66, 59, 1, 25, 33, 0, 37, 53, 55, 60, 61, 66, 57, 1, 64, 57, 74, 57, 64, 71, 1]\n",
      "\n",
      "\n",
      "Xtiwe oqng the many of an Čapaamed AI divided by AI'n uncolor that hassumed radeace. They varietion of assprocess with attempt medision choinvery) as learning.[78] ded as \"safficial intelligence agrad.[198] Twoiny, Walmariang would the suby-symbolic application behavic has and thousansical as thends\n",
      "Machine a learning what a problems.[22 Rotthers for person as Simulates of whuth high most rathemans.[108] category[16] and 20120s acand on accurate layers to assufing a competing AI\n",
      "Machine levels \n"
     ]
    }
   ],
   "source": [
    "print(\"before generating\")\n",
    "context = torch.zeros((1, 1), dtype=torch.long, device=device)\n",
    "print(context.shape)\n",
    "a = m.generate(context, max_new_tokens=500)[0]\n",
    "print(a.shape)\n",
    "print(a)\n",
    "b = a.tolist()\n",
    "print(b)\n",
    "print(decode(b))\n",
    "a[2] = a[2] + 5\n",
    "a[5] = a[5] + 1\n",
    "a[8] = a[8] + 3\n",
    "a[9] = a[9] + 2\n",
    "print(a)\n",
    "b = a.tolist()\n",
    "print(b)\n",
    "print(decode(b))"
   ]
  },
  {
   "cell_type": "code",
   "execution_count": null,
   "metadata": {},
   "outputs": [],
   "source": []
  }
 ],
 "metadata": {
  "kernelspec": {
   "display_name": "Python 3 (ipykernel)",
   "language": "python",
   "name": "python3"
  },
  "language_info": {
   "codemirror_mode": {
    "name": "ipython",
    "version": 3
   },
   "file_extension": ".py",
   "mimetype": "text/x-python",
   "name": "python",
   "nbconvert_exporter": "python",
   "pygments_lexer": "ipython3",
   "version": "3.9.16"
  }
 },
 "nbformat": 4,
 "nbformat_minor": 2
}
